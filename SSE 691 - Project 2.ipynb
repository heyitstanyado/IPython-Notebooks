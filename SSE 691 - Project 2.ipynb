{
 "cells": [
  {
   "cell_type": "markdown",
   "metadata": {},
   "source": [
    "# Learning to use IPython Notebook\n",
    "Tanya C. Do <br>\n",
    "\n",
    "\n",
    "\n"
   ]
  },
  {
   "cell_type": "markdown",
   "metadata": {},
   "source": [
    "## Table of Contents\n",
    "1. [About IPython Notebook](#aboutipython)\n",
    "2. [Using Python Scientifically](#usingpython)\n"
   ]
  },
  {
   "cell_type": "markdown",
   "metadata": {},
   "source": [
    "<a id='aboutipython'></a>\n",
    "<h2>About IPython Notebook</h2>\n"
   ]
  },
  {
   "cell_type": "markdown",
   "metadata": {},
   "source": [
    "IPython Notebook is a browser-based notebook that allows for interactive computing with not only the Python language. But also many other programming languages that are used heavily in statistical analysis. These languages include, R, Julia, Haskell, and Ruby. The IPython Notebook was originally developed solely for the Python programming language; however, its core is language agnostic and developement of the notebook slowly grew to support other programming languages that are used in the scientific computing world. The platform of the notebook being primarily language agnostic, allowed for the IPython Notebook team to pivot and support additional languages to better serve the scientific community and encourage wider adoption rates. This move is resulting in a name-change from IPython Notebook to Jupyter Notebook, in order to clearly represent the current state of the notebook project. However, for the remainder of this paper, I will be refering to the project as an IPython Notebook project. \n",
    "\n",
    "The beauty of the IPython Notebook is that it allows for scientists, to use this as if it were a physical notebook. With mixed data types. In a single notebook, a scientist can combine code, text, graphics, data graphs, and mathematical expressions. This opens up huge possiblities, because previously, scientists would have to submit or share several files in order to fully represent their projects. Now they can share their thoughts in a single form and lead their readers through their projects more successfully. Additionally, a wider audience can be reached. The notebook is web-based, so anyone with a computer may be able to run the IPython notebook without having to downloading or installing anything. Readers will be able to run the included analysis or computations right there in the notebook, without having to leave the paper (i.e. the notebook). This means the potential to spread new findings and information could increase significantly. \n",
    "\n",
    "On a smaller scale, the use of the IPython notebook could increase interest in programming. The setup for an IPython notebook is extremely short, compared to many other programming platforms. The ease of setup and use could help in retaining programming increase in users with limited or no programming experience. Allowing them to focus solely on the programming aspect, rather than having to futz around with installations and platform setup."
   ]
  },
  {
   "cell_type": "markdown",
   "metadata": {},
   "source": [
    "<a id='usingpython'></a>\n",
    "<h2>Using Python Scientifically</h2>\n"
   ]
  },
  {
   "cell_type": "markdown",
   "metadata": {},
   "source": [
    "Briefly, the Python programming language is a scripting language that is typically used as a glue language to piece together different software components. The programming language, named after the British comedy \"Monty Python\" rather than the reptile, is known for its extensive built-in libraries. The "
   ]
  },
  {
   "cell_type": "markdown",
   "metadata": {},
   "source": [
    "### Notebook notebook"
   ]
  },
  {
   "cell_type": "code",
   "execution_count": null,
   "metadata": {
    "collapsed": false,
    "scrolled": true
   },
   "outputs": [],
   "source": [
    "print(\"Hello World!\")"
   ]
  },
  {
   "cell_type": "code",
   "execution_count": null,
   "metadata": {
    "collapsed": false,
    "scrolled": true
   },
   "outputs": [],
   "source": [
    "2 + 2"
   ]
  },
  {
   "cell_type": "code",
   "execution_count": null,
   "metadata": {
    "collapsed": false,
    "scrolled": true
   },
   "outputs": [],
   "source": [
    "_ * 3\n"
   ]
  },
  {
   "cell_type": "code",
   "execution_count": null,
   "metadata": {
    "collapsed": false,
    "scrolled": true
   },
   "outputs": [],
   "source": [
    "!dir *.ipynb"
   ]
  },
  {
   "cell_type": "code",
   "execution_count": null,
   "metadata": {
    "collapsed": false,
    "scrolled": true
   },
   "outputs": [],
   "source": [
    "%lsmagic"
   ]
  },
  {
   "cell_type": "code",
   "execution_count": null,
   "metadata": {
    "collapsed": false,
    "scrolled": true
   },
   "outputs": [],
   "source": [
    "%%writefile test.txt\n",
    "Hello World!"
   ]
  },
  {
   "cell_type": "code",
   "execution_count": null,
   "metadata": {
    "collapsed": false,
    "scrolled": true
   },
   "outputs": [],
   "source": [
    "#Checking what the above file contains:\n",
    "with open('test.txt', 'r') as f:\n",
    "    print(f.read())"
   ]
  },
  {
   "cell_type": "code",
   "execution_count": null,
   "metadata": {
    "collapsed": false
   },
   "outputs": [],
   "source": [
    "%pylab?"
   ]
  },
  {
   "cell_type": "markdown",
   "metadata": {
    "collapsed": false,
    "scrolled": true
   },
   "source": [
    "### New paragraph header\n",
    "This is *italics*  \n",
    "This is **bold**  \n",
    "This is a [link](http://ipython.org)  \n",
    "This is a LaTeX equation: $$\\hat{f}(\\xi) = \\int_{-\\infty}^{+\\infty} f(x)\\, \\mathrm{e}^{-i \\xi x}$$  \n",
    "\n",
    "This is code wth syntax highlighting:\n",
    "```python\n",
    "greeting = \"hello world\"\n",
    "print(greeting)\n",
    "```\n",
    "\n",
    "This is an image:\n",
    "![This is an image](http://localhost:8888/kernelspecs/python3/logo-64x64.png)"
   ]
  },
  {
   "cell_type": "code",
   "execution_count": 13,
   "metadata": {
    "collapsed": true
   },
   "outputs": [],
   "source": [
    "from IPython.display import HTML, SVG, YouTubeVideo"
   ]
  },
  {
   "cell_type": "code",
   "execution_count": 22,
   "metadata": {
    "collapsed": false,
    "scrolled": true
   },
   "outputs": [
    {
     "data": {
      "text/html": [
       "     \n",
       "<table style = \"border: 3px solid red;\">\n",
       "<tr><td>0, 0</td><td>0, 1</td><td>0, 2</td><td>0, 3</td><td>0, 4</td><td>0, 5</td><td>0, 6</td><td>0, 7</td><td>0, 8</td><td>0, 9</td></tr><tr><td>1, 0</td><td>1, 1</td><td>1, 2</td><td>1, 3</td><td>1, 4</td><td>1, 5</td><td>1, 6</td><td>1, 7</td><td>1, 8</td><td>1, 9</td></tr>\n",
       "</table>\n"
      ],
      "text/plain": [
       "<IPython.core.display.HTML object>"
      ]
     },
     "execution_count": 22,
     "metadata": {},
     "output_type": "execute_result"
    }
   ],
   "source": [
    "HTML('''     \n",
    "<table style = \"border: 3px solid red;\">\n",
    "''' +\n",
    "     ''.join(['<tr>' +\n",
    "             ''.join(['<td>{row}, {col}</td>'.format(\n",
    "                    row=row, col=col\n",
    "                    ) for col in range(10)]) +\n",
    "             '</tr>' for row in range(2)]) +\n",
    "'''\n",
    "</table>\n",
    "''')"
   ]
  },
  {
   "cell_type": "code",
   "execution_count": 30,
   "metadata": {
    "collapsed": false,
    "scrolled": true
   },
   "outputs": [
    {
     "data": {
      "image/svg+xml": [
       "<svg height=\"350\" width=\"80\"><circle cx=\"30\" cy=\"300\" fill=\"cyan\" r=\"0.0\" stroke=\"black\" stroke-width=\"5\">\n",
       "                </circle><circle cx=\"30\" cy=\"297\" fill=\"cyan\" r=\"3.0\" stroke=\"black\" stroke-width=\"5\">\n",
       "                </circle><circle cx=\"30\" cy=\"288\" fill=\"cyan\" r=\"6.0\" stroke=\"black\" stroke-width=\"5\">\n",
       "                </circle><circle cx=\"30\" cy=\"273\" fill=\"cyan\" r=\"9.0\" stroke=\"black\" stroke-width=\"5\">\n",
       "                </circle><circle cx=\"30\" cy=\"252\" fill=\"cyan\" r=\"12.0\" stroke=\"black\" stroke-width=\"5\">\n",
       "                </circle><circle cx=\"30\" cy=\"225\" fill=\"cyan\" r=\"15.0\" stroke=\"black\" stroke-width=\"5\">\n",
       "                </circle><circle cx=\"30\" cy=\"192\" fill=\"cyan\" r=\"18.0\" stroke=\"black\" stroke-width=\"5\">\n",
       "                </circle><circle cx=\"30\" cy=\"153\" fill=\"cyan\" r=\"21.0\" stroke=\"black\" stroke-width=\"5\">\n",
       "                </circle><circle cx=\"30\" cy=\"108\" fill=\"cyan\" r=\"24.0\" stroke=\"black\" stroke-width=\"5\">\n",
       "                </circle><circle cx=\"30\" cy=\"57\" fill=\"cyan\" r=\"27.0\" stroke=\"black\" stroke-width=\"5\">\n",
       "                </circle></svg>"
      ],
      "text/plain": [
       "<IPython.core.display.SVG object>"
      ]
     },
     "execution_count": 30,
     "metadata": {},
     "output_type": "execute_result"
    }
   ],
   "source": [
    "SVG(''' <svg width=\"80\" height=\"350\">''' +\n",
    "   ''.join(['''<circle cx=\"{x}\" cy=\"{y}\" r=\"{r}\"\n",
    "                        fill=\"cyan\"\n",
    "                        stroke-width=\"5\"\n",
    "                        stroke=\"black\">\n",
    "                </circle>'''.format(y=(30+3*i) * (10-i),\n",
    "                                    x=30,\n",
    "                                    r=3.*float(i)\n",
    "                                    ) for i in range(10)])+\n",
    "                                    '''</svg>''')"
   ]
  },
  {
   "cell_type": "code",
   "execution_count": 32,
   "metadata": {
    "collapsed": false,
    "scrolled": true
   },
   "outputs": [
    {
     "data": {
      "text/html": [
       "\n",
       "        <iframe\n",
       "            width=\"400\"\n",
       "            height=\"300\"\n",
       "            src=\"https://www.youtube.com/embed/-CmadmM5cOk\"\n",
       "            frameborder=\"0\"\n",
       "            allowfullscreen\n",
       "        ></iframe>\n",
       "        "
      ],
      "text/plain": [
       "<IPython.lib.display.YouTubeVideo at 0x612d4a8>"
      ]
     },
     "execution_count": 32,
     "metadata": {},
     "output_type": "execute_result"
    }
   ],
   "source": [
    "YouTubeVideo('-CmadmM5cOk')"
   ]
  },
  {
   "cell_type": "code",
   "execution_count": 39,
   "metadata": {
    "collapsed": false,
    "scrolled": true
   },
   "outputs": [],
   "source": [
    "from collections import OrderedDict\n",
    "from IPython.display import (display,\n",
    "                            clear_output,\n",
    "                            YouTubeVideo)\n",
    "from IPython.html.widgets import Dropdown"
   ]
  },
  {
   "cell_type": "code",
   "execution_count": 43,
   "metadata": {
    "collapsed": false,
    "scrolled": true
   },
   "outputs": [
    {
     "data": {
      "text/html": [
       "\n",
       "        <iframe\n",
       "            width=\"400\"\n",
       "            height=\"300\"\n",
       "            src=\"https://www.youtube.com/embed/e-ORhEE9VVg\"\n",
       "            frameborder=\"0\"\n",
       "            allowfullscreen\n",
       "        ></iframe>\n",
       "        "
      ],
      "text/plain": [
       "<IPython.lib.display.YouTubeVideo at 0x8f8c358>"
      ]
     },
     "metadata": {},
     "output_type": "display_data"
    }
   ],
   "source": [
    "dw = Dropdown(options=OrderedDict([\n",
    "            ('SciPy 2012', 'iwVvqwLDsJo'),\n",
    "            ('PyCon 2012', '2G5YTlheCbw'),\n",
    "            ('Taylor Swift - Blank Space', 'e-ORhEE9VVg')]\n",
    "                                       )\n",
    "                   )\n",
    "def on_value_change(name, val):\n",
    "    clear_output()\n",
    "    display(YouTubeVideo(val))\n",
    "    \n",
    "dw.on_trait_change(on_value_change, 'value')\n",
    "dw.value =dw.options['Taylor Swift - Blank Space']\n",
    "display(dw)"
   ]
  },
  {
   "cell_type": "markdown",
   "metadata": {},
   "source": [
    "### Panda notebook\n",
    "dataset about attendance on montreal's bicycle tracks\n",
    "- data manipulation w/ pandas\n",
    "- data visualization w/ matplotlib\n",
    "- Interactive widgets w/ IPython 2.0+"
   ]
  },
  {
   "cell_type": "code",
   "execution_count": 11,
   "metadata": {
    "collapsed": false,
    "scrolled": true
   },
   "outputs": [],
   "source": [
    "import numpy as np\n",
    "import pandas as pd\n",
    "import matplotlib.pyplot as plt\n",
    "%matplotlib inline"
   ]
  },
  {
   "cell_type": "code",
   "execution_count": 50,
   "metadata": {
    "collapsed": false,
    "scrolled": true
   },
   "outputs": [],
   "source": [
    "url = \"http://donnees.ville.montreal.qc.ca/storage/f/2014-01-20T20%3A48%3A50.296Z/2013.csv\""
   ]
  },
  {
   "cell_type": "code",
   "execution_count": 51,
   "metadata": {
    "collapsed": false
   },
   "outputs": [],
   "source": [
    "df = pd.read_csv(url, index_col='Date', \n",
    "                 parse_dates=True, \n",
    "                 dayfirst=True)\n",
    "\n"
   ]
  },
  {
   "cell_type": "code",
   "execution_count": 54,
   "metadata": {
    "collapsed": false
   },
   "outputs": [
    {
     "data": {
      "text/html": [
       "<div>\n",
       "<table border=\"1\" class=\"dataframe\">\n",
       "  <thead>\n",
       "    <tr style=\"text-align: right;\">\n",
       "      <th></th>\n",
       "      <th>Unnamed: 1</th>\n",
       "      <th>Berri1</th>\n",
       "      <th>CSC</th>\n",
       "      <th>Mais1</th>\n",
       "      <th>Mais2</th>\n",
       "      <th>Parc</th>\n",
       "      <th>PierDup</th>\n",
       "      <th>Rachel1</th>\n",
       "      <th>Totem_Laurier</th>\n",
       "    </tr>\n",
       "    <tr>\n",
       "      <th>Date</th>\n",
       "      <th></th>\n",
       "      <th></th>\n",
       "      <th></th>\n",
       "      <th></th>\n",
       "      <th></th>\n",
       "      <th></th>\n",
       "      <th></th>\n",
       "      <th></th>\n",
       "      <th></th>\n",
       "    </tr>\n",
       "  </thead>\n",
       "  <tbody>\n",
       "    <tr>\n",
       "      <th>2013-01-01</th>\n",
       "      <td>00:00</td>\n",
       "      <td>0</td>\n",
       "      <td>0</td>\n",
       "      <td>1</td>\n",
       "      <td>0</td>\n",
       "      <td>6</td>\n",
       "      <td>0</td>\n",
       "      <td>1</td>\n",
       "      <td>0</td>\n",
       "    </tr>\n",
       "    <tr>\n",
       "      <th>2013-01-02</th>\n",
       "      <td>00:00</td>\n",
       "      <td>69</td>\n",
       "      <td>0</td>\n",
       "      <td>13</td>\n",
       "      <td>0</td>\n",
       "      <td>18</td>\n",
       "      <td>0</td>\n",
       "      <td>2</td>\n",
       "      <td>0</td>\n",
       "    </tr>\n",
       "    <tr>\n",
       "      <th>2013-01-03</th>\n",
       "      <td>00:00</td>\n",
       "      <td>69</td>\n",
       "      <td>2</td>\n",
       "      <td>21</td>\n",
       "      <td>6</td>\n",
       "      <td>22</td>\n",
       "      <td>1</td>\n",
       "      <td>0</td>\n",
       "      <td>0</td>\n",
       "    </tr>\n",
       "    <tr>\n",
       "      <th>2013-01-04</th>\n",
       "      <td>00:00</td>\n",
       "      <td>80</td>\n",
       "      <td>0</td>\n",
       "      <td>22</td>\n",
       "      <td>4</td>\n",
       "      <td>16</td>\n",
       "      <td>0</td>\n",
       "      <td>125</td>\n",
       "      <td>0</td>\n",
       "    </tr>\n",
       "    <tr>\n",
       "      <th>2013-01-05</th>\n",
       "      <td>00:00</td>\n",
       "      <td>52</td>\n",
       "      <td>4</td>\n",
       "      <td>19</td>\n",
       "      <td>3</td>\n",
       "      <td>12</td>\n",
       "      <td>0</td>\n",
       "      <td>97</td>\n",
       "      <td>0</td>\n",
       "    </tr>\n",
       "  </tbody>\n",
       "</table>\n",
       "</div>"
      ],
      "text/plain": [
       "           Unnamed: 1  Berri1  CSC  Mais1  Mais2  Parc  PierDup  Rachel1  \\\n",
       "Date                                                                       \n",
       "2013-01-01      00:00       0    0      1      0     6        0        1   \n",
       "2013-01-02      00:00      69    0     13      0    18        0        2   \n",
       "2013-01-03      00:00      69    2     21      6    22        1        0   \n",
       "2013-01-04      00:00      80    0     22      4    16        0      125   \n",
       "2013-01-05      00:00      52    4     19      3    12        0       97   \n",
       "\n",
       "            Totem_Laurier  \n",
       "Date                       \n",
       "2013-01-01              0  \n",
       "2013-01-02              0  \n",
       "2013-01-03              0  \n",
       "2013-01-04              0  \n",
       "2013-01-05              0  "
      ]
     },
     "execution_count": 54,
     "metadata": {},
     "output_type": "execute_result"
    }
   ],
   "source": [
    "df.head(5)"
   ]
  },
  {
   "cell_type": "code",
   "execution_count": 55,
   "metadata": {
    "collapsed": false
   },
   "outputs": [
    {
     "data": {
      "text/html": [
       "<div>\n",
       "<table border=\"1\" class=\"dataframe\">\n",
       "  <thead>\n",
       "    <tr style=\"text-align: right;\">\n",
       "      <th></th>\n",
       "      <th>Berri1</th>\n",
       "      <th>CSC</th>\n",
       "      <th>Mais1</th>\n",
       "      <th>Mais2</th>\n",
       "      <th>Parc</th>\n",
       "      <th>PierDup</th>\n",
       "      <th>Rachel1</th>\n",
       "      <th>Totem_Laurier</th>\n",
       "    </tr>\n",
       "  </thead>\n",
       "  <tbody>\n",
       "    <tr>\n",
       "      <th>count</th>\n",
       "      <td>261.000000</td>\n",
       "      <td>261.000000</td>\n",
       "      <td>261.000000</td>\n",
       "      <td>261.000000</td>\n",
       "      <td>261.000000</td>\n",
       "      <td>261.000000</td>\n",
       "      <td>261.000000</td>\n",
       "      <td>261.000000</td>\n",
       "    </tr>\n",
       "    <tr>\n",
       "      <th>mean</th>\n",
       "      <td>2743.390805</td>\n",
       "      <td>1221.858238</td>\n",
       "      <td>1757.590038</td>\n",
       "      <td>3224.130268</td>\n",
       "      <td>1669.425287</td>\n",
       "      <td>1152.885057</td>\n",
       "      <td>3084.425287</td>\n",
       "      <td>1858.793103</td>\n",
       "    </tr>\n",
       "    <tr>\n",
       "      <th>std</th>\n",
       "      <td>2247.957848</td>\n",
       "      <td>1070.037364</td>\n",
       "      <td>1458.793882</td>\n",
       "      <td>2589.514354</td>\n",
       "      <td>1363.738862</td>\n",
       "      <td>1208.848429</td>\n",
       "      <td>2380.255540</td>\n",
       "      <td>1434.899574</td>\n",
       "    </tr>\n",
       "    <tr>\n",
       "      <th>min</th>\n",
       "      <td>0.000000</td>\n",
       "      <td>0.000000</td>\n",
       "      <td>1.000000</td>\n",
       "      <td>0.000000</td>\n",
       "      <td>6.000000</td>\n",
       "      <td>0.000000</td>\n",
       "      <td>0.000000</td>\n",
       "      <td>0.000000</td>\n",
       "    </tr>\n",
       "    <tr>\n",
       "      <th>25%</th>\n",
       "      <td>392.000000</td>\n",
       "      <td>12.000000</td>\n",
       "      <td>236.000000</td>\n",
       "      <td>516.000000</td>\n",
       "      <td>222.000000</td>\n",
       "      <td>12.000000</td>\n",
       "      <td>451.000000</td>\n",
       "      <td>340.000000</td>\n",
       "    </tr>\n",
       "    <tr>\n",
       "      <th>50%</th>\n",
       "      <td>2771.000000</td>\n",
       "      <td>1184.000000</td>\n",
       "      <td>1706.000000</td>\n",
       "      <td>3178.000000</td>\n",
       "      <td>1584.000000</td>\n",
       "      <td>818.000000</td>\n",
       "      <td>3111.000000</td>\n",
       "      <td>2087.000000</td>\n",
       "    </tr>\n",
       "    <tr>\n",
       "      <th>75%</th>\n",
       "      <td>4767.000000</td>\n",
       "      <td>2168.000000</td>\n",
       "      <td>3158.000000</td>\n",
       "      <td>5812.000000</td>\n",
       "      <td>3068.000000</td>\n",
       "      <td>2104.000000</td>\n",
       "      <td>5338.000000</td>\n",
       "      <td>3168.000000</td>\n",
       "    </tr>\n",
       "    <tr>\n",
       "      <th>max</th>\n",
       "      <td>6803.000000</td>\n",
       "      <td>3330.000000</td>\n",
       "      <td>4716.000000</td>\n",
       "      <td>7684.000000</td>\n",
       "      <td>4103.000000</td>\n",
       "      <td>4841.000000</td>\n",
       "      <td>8555.000000</td>\n",
       "      <td>4293.000000</td>\n",
       "    </tr>\n",
       "  </tbody>\n",
       "</table>\n",
       "</div>"
      ],
      "text/plain": [
       "            Berri1          CSC        Mais1        Mais2         Parc  \\\n",
       "count   261.000000   261.000000   261.000000   261.000000   261.000000   \n",
       "mean   2743.390805  1221.858238  1757.590038  3224.130268  1669.425287   \n",
       "std    2247.957848  1070.037364  1458.793882  2589.514354  1363.738862   \n",
       "min       0.000000     0.000000     1.000000     0.000000     6.000000   \n",
       "25%     392.000000    12.000000   236.000000   516.000000   222.000000   \n",
       "50%    2771.000000  1184.000000  1706.000000  3178.000000  1584.000000   \n",
       "75%    4767.000000  2168.000000  3158.000000  5812.000000  3068.000000   \n",
       "max    6803.000000  3330.000000  4716.000000  7684.000000  4103.000000   \n",
       "\n",
       "           PierDup      Rachel1  Totem_Laurier  \n",
       "count   261.000000   261.000000     261.000000  \n",
       "mean   1152.885057  3084.425287    1858.793103  \n",
       "std    1208.848429  2380.255540    1434.899574  \n",
       "min       0.000000     0.000000       0.000000  \n",
       "25%      12.000000   451.000000     340.000000  \n",
       "50%     818.000000  3111.000000    2087.000000  \n",
       "75%    2104.000000  5338.000000    3168.000000  \n",
       "max    4841.000000  8555.000000    4293.000000  "
      ]
     },
     "execution_count": 55,
     "metadata": {},
     "output_type": "execute_result"
    }
   ],
   "source": [
    "df.describe()"
   ]
  },
  {
   "cell_type": "code",
   "execution_count": 59,
   "metadata": {
    "collapsed": false
   },
   "outputs": [
    {
     "data": {
      "text/plain": [
       "<matplotlib.axes._subplots.AxesSubplot at 0x7caff60>"
      ]
     },
     "execution_count": 59,
     "metadata": {},
     "output_type": "execute_result"
    },
    {
     "data": {
      "image/png": "[encoded data removed]",
      "text/plain": [
       "<matplotlib.figure.Figure at 0x7cb95c0>"
      ]
     },
     "metadata": {},
     "output_type": "display_data"
    }
   ],
   "source": [
    "df[['Berri1', 'PierDup', 'Mais1', 'Rachel1']].plot()"
   ]
  },
  {
   "cell_type": "code",
   "execution_count": 60,
   "metadata": {
    "collapsed": false
   },
   "outputs": [
    {
     "data": {
      "text/plain": [
       "array([1, 2, 3, 4, 5, 6, 0, 1, 2, 3, 4, 5, 6, 0, 1, 2, 3, 4, 5, 6, 0, 1, 2,\n",
       "       3, 4, 5, 6, 0, 1, 2, 3, 4, 5, 6, 0, 1, 2, 3, 4, 5, 6, 0, 1, 2, 3, 4,\n",
       "       5, 6, 0, 1, 2, 3, 4, 5, 6, 0, 1, 2, 3, 4, 5, 6, 0, 1, 2, 3, 4, 5, 6,\n",
       "       0, 1, 2, 3, 4, 5, 6, 0, 1, 2, 3, 4, 5, 6, 0, 1, 2, 3, 4, 5, 6, 0, 1,\n",
       "       2, 3, 4, 5, 6, 0, 1, 2, 3, 4, 5, 6, 0, 1, 2, 3, 4, 5, 6, 0, 1, 2, 3,\n",
       "       4, 5, 6, 0, 1, 2, 3, 4, 5, 6, 0, 1, 2, 3, 4, 5, 6, 0, 1, 2, 3, 4, 5,\n",
       "       6, 0, 1, 2, 3, 4, 5, 6, 0, 1, 2, 3, 4, 5, 6, 0, 1, 2, 3, 4, 5, 6, 0,\n",
       "       1, 2, 3, 4, 5, 6, 0, 1, 2, 3, 4, 5, 6, 0, 1, 2, 3, 4, 5, 6, 0, 1, 2,\n",
       "       3, 4, 5, 6, 0, 1, 2, 3, 4, 5, 6, 0, 1, 2, 3, 4, 5, 6, 0, 1, 2, 3, 4,\n",
       "       5, 6, 0, 1, 2, 3, 4, 5, 6, 0, 1, 2, 3, 4, 5, 6, 0, 1, 2, 3, 4, 5, 6,\n",
       "       0, 1, 2, 3, 4, 5, 6, 0, 1, 2, 3, 4, 5, 6, 0, 1, 2, 3, 4, 5, 6, 0, 1,\n",
       "       2, 3, 4, 5, 6, 0, 1, 2])"
      ]
     },
     "execution_count": 60,
     "metadata": {},
     "output_type": "execute_result"
    }
   ],
   "source": [
    "df.index.weekday"
   ]
  },
  {
   "cell_type": "code",
   "execution_count": 66,
   "metadata": {
    "collapsed": false
   },
   "outputs": [],
   "source": [
    "days = np.array(['Monday', 'Tuesday', 'Wednesday', 'Thursday', 'Friday', 'Saturday', 'Sunday'])\n",
    "df['Weekday'] = days[df.index.weekday]"
   ]
  },
  {
   "cell_type": "markdown",
   "metadata": {},
   "source": [
    "\n"
   ]
  },
  {
   "cell_type": "code",
   "execution_count": 68,
   "metadata": {
    "collapsed": false
   },
   "outputs": [
    {
     "data": {
      "text/html": [
       "<div>\n",
       "<table border=\"1\" class=\"dataframe\">\n",
       "  <thead>\n",
       "    <tr style=\"text-align: right;\">\n",
       "      <th></th>\n",
       "      <th>Berri1</th>\n",
       "      <th>CSC</th>\n",
       "      <th>Mais1</th>\n",
       "      <th>Mais2</th>\n",
       "      <th>Parc</th>\n",
       "      <th>PierDup</th>\n",
       "      <th>Rachel1</th>\n",
       "      <th>Totem_Laurier</th>\n",
       "    </tr>\n",
       "    <tr>\n",
       "      <th>Weekday</th>\n",
       "      <th></th>\n",
       "      <th></th>\n",
       "      <th></th>\n",
       "      <th></th>\n",
       "      <th></th>\n",
       "      <th></th>\n",
       "      <th></th>\n",
       "      <th></th>\n",
       "    </tr>\n",
       "  </thead>\n",
       "  <tbody>\n",
       "    <tr>\n",
       "      <th>Friday</th>\n",
       "      <td>105701</td>\n",
       "      <td>44252</td>\n",
       "      <td>71605</td>\n",
       "      <td>127526</td>\n",
       "      <td>64385</td>\n",
       "      <td>36850</td>\n",
       "      <td>118556</td>\n",
       "      <td>71426</td>\n",
       "    </tr>\n",
       "    <tr>\n",
       "      <th>Monday</th>\n",
       "      <td>106826</td>\n",
       "      <td>51646</td>\n",
       "      <td>68087</td>\n",
       "      <td>129982</td>\n",
       "      <td>69767</td>\n",
       "      <td>44500</td>\n",
       "      <td>119211</td>\n",
       "      <td>72883</td>\n",
       "    </tr>\n",
       "    <tr>\n",
       "      <th>Saturday</th>\n",
       "      <td>75754</td>\n",
       "      <td>27226</td>\n",
       "      <td>45947</td>\n",
       "      <td>79743</td>\n",
       "      <td>35544</td>\n",
       "      <td>46149</td>\n",
       "      <td>97143</td>\n",
       "      <td>56438</td>\n",
       "    </tr>\n",
       "    <tr>\n",
       "      <th>Sunday</th>\n",
       "      <td>74873</td>\n",
       "      <td>29181</td>\n",
       "      <td>40812</td>\n",
       "      <td>75746</td>\n",
       "      <td>37620</td>\n",
       "      <td>53812</td>\n",
       "      <td>100735</td>\n",
       "      <td>53798</td>\n",
       "    </tr>\n",
       "    <tr>\n",
       "      <th>Thursday</th>\n",
       "      <td>115193</td>\n",
       "      <td>52340</td>\n",
       "      <td>76273</td>\n",
       "      <td>141424</td>\n",
       "      <td>73668</td>\n",
       "      <td>36349</td>\n",
       "      <td>120684</td>\n",
       "      <td>74540</td>\n",
       "    </tr>\n",
       "    <tr>\n",
       "      <th>Tuesday</th>\n",
       "      <td>117244</td>\n",
       "      <td>54656</td>\n",
       "      <td>76974</td>\n",
       "      <td>141217</td>\n",
       "      <td>74299</td>\n",
       "      <td>40679</td>\n",
       "      <td>123533</td>\n",
       "      <td>76559</td>\n",
       "    </tr>\n",
       "    <tr>\n",
       "      <th>Wednesday</th>\n",
       "      <td>120434</td>\n",
       "      <td>59604</td>\n",
       "      <td>79033</td>\n",
       "      <td>145860</td>\n",
       "      <td>80437</td>\n",
       "      <td>42564</td>\n",
       "      <td>125173</td>\n",
       "      <td>79501</td>\n",
       "    </tr>\n",
       "  </tbody>\n",
       "</table>\n",
       "</div>"
      ],
      "text/plain": [
       "           Berri1    CSC  Mais1   Mais2   Parc  PierDup  Rachel1  \\\n",
       "Weekday                                                            \n",
       "Friday     105701  44252  71605  127526  64385    36850   118556   \n",
       "Monday     106826  51646  68087  129982  69767    44500   119211   \n",
       "Saturday    75754  27226  45947   79743  35544    46149    97143   \n",
       "Sunday      74873  29181  40812   75746  37620    53812   100735   \n",
       "Thursday   115193  52340  76273  141424  73668    36349   120684   \n",
       "Tuesday    117244  54656  76974  141217  74299    40679   123533   \n",
       "Wednesday  120434  59604  79033  145860  80437    42564   125173   \n",
       "\n",
       "           Totem_Laurier  \n",
       "Weekday                   \n",
       "Friday             71426  \n",
       "Monday             72883  \n",
       "Saturday           56438  \n",
       "Sunday             53798  \n",
       "Thursday           74540  \n",
       "Tuesday            76559  \n",
       "Wednesday          79501  "
      ]
     },
     "execution_count": 68,
     "metadata": {},
     "output_type": "execute_result"
    }
   ],
   "source": [
    "df_week = df.groupby('Weekday').sum()\n",
    "df_week"
   ]
  },
  {
   "cell_type": "code",
   "execution_count": null,
   "metadata": {
    "collapsed": false
   },
   "outputs": [],
   "source": []
  },
  {
   "cell_type": "code",
   "execution_count": null,
   "metadata": {
    "collapsed": false
   },
   "outputs": [],
   "source": []
  },
  {
   "cell_type": "code",
   "execution_count": null,
   "metadata": {
    "collapsed": false
   },
   "outputs": [],
   "source": []
  },
  {
   "cell_type": "code",
   "execution_count": null,
   "metadata": {
    "collapsed": false
   },
   "outputs": [],
   "source": []
  },
  {
   "cell_type": "code",
   "execution_count": null,
   "metadata": {
    "collapsed": false
   },
   "outputs": [],
   "source": []
  },
  {
   "cell_type": "code",
   "execution_count": null,
   "metadata": {
    "collapsed": false
   },
   "outputs": [],
   "source": []
  },
  {
   "cell_type": "code",
   "execution_count": null,
   "metadata": {
    "collapsed": false
   },
   "outputs": [],
   "source": []
  },
  {
   "cell_type": "code",
   "execution_count": null,
   "metadata": {
    "collapsed": false
   },
   "outputs": [],
   "source": []
  }
 ],
 "metadata": {
  "kernelspec": {
   "display_name": "Python 3",
   "language": "python",
   "name": "python3"
  },
  "language_info": {
   "codemirror_mode": {
    "name": "ipython",
    "version": 3
   },
   "file_extension": ".py",
   "mimetype": "text/x-python",
   "name": "python",
   "nbconvert_exporter": "python",
   "pygments_lexer": "ipython3",
   "version": "3.4.3"
  }
 },
 "nbformat": 4,
 "nbformat_minor": 0
}
