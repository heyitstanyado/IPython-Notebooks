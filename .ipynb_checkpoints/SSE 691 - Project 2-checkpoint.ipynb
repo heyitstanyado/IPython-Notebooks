{
 "cells": [
  {
   "cell_type": "markdown",
   "metadata": {},
   "source": [
    "# Learning to use IPython Notebook\n",
    "\n",
    "SSE 691 - Project 2<br>\n",
    "Fall 2015<br>\n",
    "Tanya C. Do <br>\n",
    "\n",
    "\n",
    "\n"
   ]
  },
  {
   "cell_type": "markdown",
   "metadata": {},
   "source": [
    "## Table of Contents\n",
    "1. [About IPython Notebook](#aboutipython)\n",
    "2. [Using Python Scientifically](#usingpython)\n"
   ]
  },
  {
   "cell_type": "markdown",
   "metadata": {},
   "source": [
    "<a id='aboutipython'></a>\n",
    "<h2>About IPython Notebook</h2>\n"
   ]
  },
  {
   "cell_type": "markdown",
   "metadata": {},
   "source": [
    "IPython Notebook is a browser-based notebook that allows for interactive computing with not only the Python language. But also many other programming languages that are used heavily in statistical analysis. These languages include, R, Julia, Haskell, and Ruby. The IPython Notebook was originally developed solely for the Python programming language; however, its core is language agnostic and developement of the notebook slowly grew to support other programming languages that are used in the scientific computing world. The platform of the notebook being primarily language agnostic, allowed for the IPython Notebook team to pivot and support additional languages to better serve the scientific community and encourage wider adoption rates. This move is resulting in a name-change from IPython Notebook to Jupyter Notebook, in order to clearly represent the current state of the notebook project. However, for the remainder of this paper, I will be refering to the project as an IPython Notebook project. \n",
    "\n",
    "The beauty of the IPython Notebook is that it allows for scientists, to use this as if it were a physical notebook. With mixed data types. In a single notebook, a scientist can combine code, text, graphics, data graphs, and mathematical expressions. This opens up huge possiblities, because previously, scientists would have to submit or share several files in order to fully represent their projects. Now they can share their thoughts in a single form and lead their readers through their projects more successfully. Additionally, a wider audience can be reached. The notebook is web-based, so anyone with a computer may be able to run the IPython notebook without having to downloading or installing anything. Readers will be able to run the included analysis or computations right there in the notebook, without having to leave the paper (i.e. the notebook). This means the potential to spread new findings and information could increase significantly. \n",
    "\n",
    "On a smaller scale, the use of the IPython notebook could increase interest in programming. The setup for an IPython notebook is extremely short, compared to many other programming platforms. The ease of setup and use could help in retaining programming increase in users with limited or no programming experience. Allowing them to focus solely on the programming aspect, rather than having to futz around with installations and platform setup."
   ]
  },
  {
   "cell_type": "markdown",
   "metadata": {},
   "source": [
    "<a id='usingpython'></a>\n",
    "<h2>Using Python Scientifically</h2>\n"
   ]
  },
  {
   "cell_type": "markdown",
   "metadata": {},
   "source": [
    "Briefly, the Python programming language is a scripting language that is typically used as a glue language to piece together different software components. The programming language, named after the British comedy \"Monty Python\" rather than the reptile, is known for its extensive built-in libraries. The "
   ]
  },
  {
   "cell_type": "code",
   "execution_count": 6,
   "metadata": {
    "collapsed": false
   },
   "outputs": [],
   "source": [
    "def something():\n",
    "    print(\"hello girly\")\n",
    "    \n",
    "\n",
    "\n",
    "\n"
   ]
  },
  {
   "cell_type": "code",
   "execution_count": 9,
   "metadata": {
    "collapsed": false,
    "scrolled": true
   },
   "outputs": [],
   "source": [
    "def something():\n",
    "    print(\"this is new, works?\")"
   ]
  },
  {
   "cell_type": "code",
   "execution_count": 10,
   "metadata": {
    "collapsed": false
   },
   "outputs": [
    {
     "name": "stdout",
     "output_type": "stream",
     "text": [
      "this is new, works?\n"
     ]
    }
   ],
   "source": [
    "something()"
   ]
  },
  {
   "cell_type": "code",
   "execution_count": null,
   "metadata": {
    "collapsed": true
   },
   "outputs": [],
   "source": []
  },
  {
   "cell_type": "code",
   "execution_count": null,
   "metadata": {
    "collapsed": true
   },
   "outputs": [],
   "source": []
  },
  {
   "cell_type": "code",
   "execution_count": null,
   "metadata": {
    "collapsed": true
   },
   "outputs": [],
   "source": []
  },
  {
   "cell_type": "code",
   "execution_count": null,
   "metadata": {
    "collapsed": true
   },
   "outputs": [],
   "source": []
  },
  {
   "cell_type": "code",
   "execution_count": null,
   "metadata": {
    "collapsed": true
   },
   "outputs": [],
   "source": []
  },
  {
   "cell_type": "code",
   "execution_count": null,
   "metadata": {
    "collapsed": true
   },
   "outputs": [],
   "source": []
  },
  {
   "cell_type": "code",
   "execution_count": null,
   "metadata": {
    "collapsed": true
   },
   "outputs": [],
   "source": []
  },
  {
   "cell_type": "code",
   "execution_count": null,
   "metadata": {
    "collapsed": true
   },
   "outputs": [],
   "source": []
  },
  {
   "cell_type": "markdown",
   "metadata": {},
   "source": [
    "<a id='section2'></a>\n",
    "sometext here"
   ]
  },
  {
   "cell_type": "code",
   "execution_count": null,
   "metadata": {
    "collapsed": true
   },
   "outputs": [],
   "source": []
  },
  {
   "cell_type": "code",
   "execution_count": null,
   "metadata": {
    "collapsed": true
   },
   "outputs": [],
   "source": []
  }
 ],
 "metadata": {
  "kernelspec": {
   "display_name": "Python 3",
   "language": "python",
   "name": "python3"
  },
  "language_info": {
   "codemirror_mode": {
    "name": "ipython",
    "version": 3
   },
   "file_extension": ".py",
   "mimetype": "text/x-python",
   "name": "python",
   "nbconvert_exporter": "python",
   "pygments_lexer": "ipython3",
   "version": "3.4.3"
  }
 },
 "nbformat": 4,
 "nbformat_minor": 0
}
